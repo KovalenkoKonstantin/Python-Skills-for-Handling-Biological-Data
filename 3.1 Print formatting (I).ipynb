{
 "cells": [
  {
   "cell_type": "code",
   "execution_count": 1,
   "id": "initial_id",
   "metadata": {
    "collapsed": true,
    "ExecuteTime": {
     "end_time": "2024-09-09T08:22:23.087642800Z",
     "start_time": "2024-09-09T08:22:23.085249700Z"
    }
   },
   "outputs": [
    {
     "name": "stdout",
     "output_type": "stream",
     "text": [
      "2 multiplied by 8: 16\n"
     ]
    }
   ],
   "source": [
    "print (\"2 multiplied by 8: {}\".format (2*8))"
   ]
  },
  {
   "cell_type": "code",
   "execution_count": 2,
   "outputs": [
    {
     "name": "stdout",
     "output_type": "stream",
     "text": [
      "125.6 divided by 7: 17.942857142857143\n"
     ]
    }
   ],
   "source": [
    "print (\"125.6 divided by 7: {}\".format (125.6/7))"
   ],
   "metadata": {
    "collapsed": false,
    "ExecuteTime": {
     "end_time": "2024-09-09T08:23:41.330446800Z",
     "start_time": "2024-09-09T08:23:41.327771300Z"
    }
   },
   "id": "1a16c4011d48a35c"
  },
  {
   "cell_type": "code",
   "execution_count": 3,
   "outputs": [
    {
     "name": "stdout",
     "output_type": "stream",
     "text": [
      "125.6 divided by 7:  17.9\n"
     ]
    }
   ],
   "source": [
    "print (\"125.6 divided by 7: {: .1f}\".format (125.6/7))"
   ],
   "metadata": {
    "collapsed": false,
    "ExecuteTime": {
     "end_time": "2024-09-09T08:23:51.107337Z",
     "start_time": "2024-09-09T08:23:51.103690200Z"
    }
   },
   "id": "11c0909d89a842c1"
  },
  {
   "cell_type": "code",
   "execution_count": 6,
   "outputs": [
    {
     "name": "stdout",
     "output_type": "stream",
     "text": [
      "ctattactta\n"
     ]
    }
   ],
   "source": [
    "print(input().lower())"
   ],
   "metadata": {
    "collapsed": false,
    "ExecuteTime": {
     "end_time": "2024-09-09T08:29:14.985794600Z",
     "start_time": "2024-09-09T08:29:14.241974800Z"
    }
   },
   "id": "20548bb02f8ac754"
  },
  {
   "cell_type": "markdown",
   "source": [
    "Code Challenge: Replace the last 3 characters of my_seq with \"TAG\" and print the new sequence.\n",
    "\n",
    "Sample Input:\n",
    "\n",
    "GAGTGATCAT\n",
    "Sample Output:\n",
    "\n",
    "GAGTGATTAG"
   ],
   "metadata": {
    "collapsed": false
   },
   "id": "d6c44337744e2b04"
  },
  {
   "cell_type": "code",
   "execution_count": 10,
   "outputs": [
    {
     "name": "stdout",
     "output_type": "stream",
     "text": [
      "GAGTGATTAG\n"
     ]
    }
   ],
   "source": [
    "my_seq = 'GAGTGATCAT'\n",
    "\n",
    "print(my_seq[:-3]+'TAG')"
   ],
   "metadata": {
    "collapsed": false,
    "ExecuteTime": {
     "end_time": "2024-09-09T08:36:42.161528200Z",
     "start_time": "2024-09-09T08:36:42.157944200Z"
    }
   },
   "id": "54e2f4caa58b69d"
  },
  {
   "cell_type": "markdown",
   "source": [
    "Code challenge: Count the number of \"C\" bases in my_seq and print the result. There is no need to redefine my_seq as it's already stored for you :)\n",
    "\n",
    " \n",
    "\n",
    "Sample Input:\n",
    "\n",
    "TGTGACTTCG\n",
    "Sample Output:\n",
    "\n",
    "2"
   ],
   "metadata": {
    "collapsed": false
   },
   "id": "8f8a74ec4ac797db"
  },
  {
   "cell_type": "code",
   "execution_count": 12,
   "outputs": [
    {
     "name": "stdout",
     "output_type": "stream",
     "text": [
      "2\n"
     ]
    }
   ],
   "source": [
    "my_seq = 'TGTGACTTCG'\n",
    "\n",
    "print(sum([1 for i in my_seq if i =='C']))"
   ],
   "metadata": {
    "collapsed": false,
    "ExecuteTime": {
     "end_time": "2024-09-09T08:39:05.294967600Z",
     "start_time": "2024-09-09T08:39:05.291296300Z"
    }
   },
   "id": "37488ec680277528"
  },
  {
   "cell_type": "markdown",
   "source": [
    "Code challenge: Find the first occurence of \"TT\" in my_seq\n",
    "\n",
    "(Hint: -1 indicates not found)\n",
    "Sample Input:\n",
    "\n",
    "GGGATCCTGG\n",
    "Sample Output:\n",
    "\n",
    "-1"
   ],
   "metadata": {
    "collapsed": false
   },
   "id": "c2a0fafdbff82484"
  },
  {
   "cell_type": "code",
   "execution_count": 13,
   "outputs": [
    {
     "name": "stdout",
     "output_type": "stream",
     "text": [
      "-1\n"
     ]
    }
   ],
   "source": [
    "my_seq = 'GGGATCCTGG'\n",
    "\n",
    "print(my_seq.find('TT'))"
   ],
   "metadata": {
    "collapsed": false,
    "ExecuteTime": {
     "end_time": "2024-09-09T08:40:33.788191700Z",
     "start_time": "2024-09-09T08:40:33.784281800Z"
    }
   },
   "id": "ffb2392049aa3957"
  }
 ],
 "metadata": {
  "kernelspec": {
   "display_name": "Python 3",
   "language": "python",
   "name": "python3"
  },
  "language_info": {
   "codemirror_mode": {
    "name": "ipython",
    "version": 2
   },
   "file_extension": ".py",
   "mimetype": "text/x-python",
   "name": "python",
   "nbconvert_exporter": "python",
   "pygments_lexer": "ipython2",
   "version": "2.7.6"
  }
 },
 "nbformat": 4,
 "nbformat_minor": 5
}
