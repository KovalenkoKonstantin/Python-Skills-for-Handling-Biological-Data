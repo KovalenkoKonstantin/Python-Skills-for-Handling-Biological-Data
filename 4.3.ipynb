{
 "cells": [
  {
   "cell_type": "markdown",
   "source": [
    "dir() is a powerful inbuilt function in Python3, which returns list of the attributes and methods of any object (functions , modules, strings, lists, dictionaries etc)"
   ],
   "metadata": {
    "collapsed": false
   },
   "id": "5465f9f5a234d1c5"
  },
  {
   "cell_type": "code",
   "execution_count": 2,
   "outputs": [
    {
     "data": {
      "text/plain": "['__add__',\n '__class__',\n '__contains__',\n '__delattr__',\n '__dir__',\n '__doc__',\n '__eq__',\n '__format__',\n '__ge__',\n '__getattribute__',\n '__getitem__',\n '__getnewargs__',\n '__getstate__',\n '__gt__',\n '__hash__',\n '__init__',\n '__init_subclass__',\n '__iter__',\n '__le__',\n '__len__',\n '__lt__',\n '__mod__',\n '__mul__',\n '__ne__',\n '__new__',\n '__reduce__',\n '__reduce_ex__',\n '__repr__',\n '__rmod__',\n '__rmul__',\n '__setattr__',\n '__sizeof__',\n '__str__',\n '__subclasshook__',\n 'capitalize',\n 'casefold',\n 'center',\n 'count',\n 'encode',\n 'endswith',\n 'expandtabs',\n 'find',\n 'format',\n 'format_map',\n 'index',\n 'isalnum',\n 'isalpha',\n 'isascii',\n 'isdecimal',\n 'isdigit',\n 'isidentifier',\n 'islower',\n 'isnumeric',\n 'isprintable',\n 'isspace',\n 'istitle',\n 'isupper',\n 'join',\n 'ljust',\n 'lower',\n 'lstrip',\n 'maketrans',\n 'partition',\n 'removeprefix',\n 'removesuffix',\n 'replace',\n 'rfind',\n 'rindex',\n 'rjust',\n 'rpartition',\n 'rsplit',\n 'rstrip',\n 'split',\n 'splitlines',\n 'startswith',\n 'strip',\n 'swapcase',\n 'title',\n 'translate',\n 'upper',\n 'zfill']"
     },
     "execution_count": 2,
     "metadata": {},
     "output_type": "execute_result"
    }
   ],
   "source": [
    "string = \"ABCDE\"\n",
    "dir(string)"
   ],
   "metadata": {
    "collapsed": false,
    "ExecuteTime": {
     "end_time": "2024-09-09T09:26:26.902410200Z",
     "start_time": "2024-09-09T09:26:26.895602500Z"
    }
   },
   "id": "d4e33f5a6139fc7a"
  },
  {
   "cell_type": "code",
   "execution_count": 3,
   "outputs": [
    {
     "data": {
      "text/plain": "['BPF',\n 'LOG4',\n 'NV_MAGICCONST',\n 'RECIP_BPF',\n 'Random',\n 'SG_MAGICCONST',\n 'SystemRandom',\n 'TWOPI',\n '_ONE',\n '_Sequence',\n '_Set',\n '__all__',\n '__builtins__',\n '__cached__',\n '__doc__',\n '__file__',\n '__loader__',\n '__name__',\n '__package__',\n '__spec__',\n '_accumulate',\n '_acos',\n '_bisect',\n '_ceil',\n '_cos',\n '_e',\n '_exp',\n '_floor',\n '_index',\n '_inst',\n '_isfinite',\n '_log',\n '_os',\n '_pi',\n '_random',\n '_repeat',\n '_sha512',\n '_sin',\n '_sqrt',\n '_test',\n '_test_generator',\n '_urandom',\n '_warn',\n 'betavariate',\n 'choice',\n 'choices',\n 'expovariate',\n 'gammavariate',\n 'gauss',\n 'getrandbits',\n 'getstate',\n 'lognormvariate',\n 'normalvariate',\n 'paretovariate',\n 'randbytes',\n 'randint',\n 'random',\n 'randrange',\n 'sample',\n 'seed',\n 'setstate',\n 'shuffle',\n 'triangular',\n 'uniform',\n 'vonmisesvariate',\n 'weibullvariate']"
     },
     "execution_count": 3,
     "metadata": {},
     "output_type": "execute_result"
    }
   ],
   "source": [
    "import random\n",
    "\n",
    "dir(random)"
   ],
   "metadata": {
    "collapsed": false,
    "ExecuteTime": {
     "end_time": "2024-09-09T09:26:51.989220800Z",
     "start_time": "2024-09-09T09:26:51.984405800Z"
    }
   },
   "id": "5acf86b00df81c8e"
  }
 ],
 "metadata": {
  "kernelspec": {
   "display_name": "Python 3",
   "language": "python",
   "name": "python3"
  },
  "language_info": {
   "codemirror_mode": {
    "name": "ipython",
    "version": 2
   },
   "file_extension": ".py",
   "mimetype": "text/x-python",
   "name": "python",
   "nbconvert_exporter": "python",
   "pygments_lexer": "ipython2",
   "version": "2.7.6"
  }
 },
 "nbformat": 4,
 "nbformat_minor": 5
}
