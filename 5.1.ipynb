{
 "cells": [
  {
   "cell_type": "markdown",
   "source": [
    "Lists are mutable ordered collections of objects and are indicated with square brackets.\n",
    "\n",
    "\n",
    "# Assigning lists to variables\n",
    "\n",
    "first_list = [1, 2, 3, 4, 5]\n",
    "\n",
    "second_list = list(range(1, 11)) # creates list of integers from 1 to 10\n",
    "\n",
    "third_list = [\"one\",  \"two\", \"three\", \"four\"] # list with string objects\n",
    "\n",
    "fourth_list = [1, \"one\", 2, \"two\", 3, \"three\", 4, \"four\"] # mixed list\n",
    "\n",
    "fifth_list = [\"one\", \"two\", \"three\", [1, 2, 3, 4], \"four\"] # a list can contain other lists"
   ],
   "metadata": {
    "collapsed": false
   },
   "id": "3c234bb686b3f001"
  },
  {
   "cell_type": "markdown",
   "source": [
    "Code challenge: Given a list, my_list, print the third item from this list.\n",
    "\n",
    "Sample Input:\n",
    "\n",
    "P01271 P01272 P01273 P01274 P01275\n",
    "Sample Output:\n",
    "\n",
    "P01273"
   ],
   "metadata": {
    "collapsed": false
   },
   "id": "af4834e6bc74b67d"
  },
  {
   "cell_type": "code",
   "execution_count": 4,
   "outputs": [
    {
     "name": "stdout",
     "output_type": "stream",
     "text": [
      "P01273\n"
     ]
    }
   ],
   "source": [
    "my_list = ['P01271', 'P01272', 'P01273', 'P01274', 'P01275']\n",
    "\n",
    "print(my_list[2])"
   ],
   "metadata": {
    "collapsed": false,
    "ExecuteTime": {
     "end_time": "2024-09-09T09:31:46.788191400Z",
     "start_time": "2024-09-09T09:31:46.785981900Z"
    }
   },
   "id": "4e6ff4d01c6cf55"
  },
  {
   "cell_type": "markdown",
   "source": [
    "Code challenge: Create a copy of my_list called ﻿backup and print it to the screen\n",
    "\n",
    "Hint: Subset with [:]\n",
    "\n",
    "Sample Input:\n",
    "\n",
    "P01271 P01272 P01273 P01274 P01275\n",
    "Sample Output:\n",
    "\n",
    "P01271 P01272 P01273 P01274 P01275"
   ],
   "metadata": {
    "collapsed": false
   },
   "id": "d81d9148ef37adf"
  },
  {
   "cell_type": "code",
   "execution_count": 7,
   "outputs": [
    {
     "name": "stdout",
     "output_type": "stream",
     "text": [
      "P01271  P01272  P01273  P01274  P01275\n"
     ]
    }
   ],
   "source": [
    "my_list=['P01271',' P01272',' P01273',' P01274',' P01275']\n",
    "\n",
    "x = my_list\n",
    "\n",
    "print(*x, sep='')"
   ],
   "metadata": {
    "collapsed": false,
    "ExecuteTime": {
     "end_time": "2024-09-09T09:33:46.717067200Z",
     "start_time": "2024-09-09T09:33:46.712883300Z"
    }
   },
   "id": "a520695f2e71a5a0"
  },
  {
   "cell_type": "markdown",
   "source": [
    "Code challenge: Create a list called new_list, containing the second to fourth elements in my_list\n",
    "\n",
    "(you do not need to use the print instruction for this particular challenge)\n",
    "\n",
    "Hint:\n",
    "\n",
    "You already have the first list stored using the variable my_list.\n",
    "\n",
    "new_list = (required subset for my_list)\n",
    "\n",
    "Sample Input:\n",
    "\n",
    "P01271 P01272 P01273 P01274 P01275\n",
    "Sample Output:\n",
    "\n",
    "P01272 P01273 P01274"
   ],
   "metadata": {
    "collapsed": false
   },
   "id": "960eb162826bdeea"
  },
  {
   "cell_type": "code",
   "execution_count": 9,
   "outputs": [
    {
     "name": "stdout",
     "output_type": "stream",
     "text": [
      "('P01272', 'P01273', 'P01274')\n"
     ]
    }
   ],
   "source": [
    "my_list=('P01271','P01272','P01273','P01274','P01275')\n",
    "new_list=(my_list[1:4])\n",
    "print(new_list)"
   ],
   "metadata": {
    "collapsed": false,
    "ExecuteTime": {
     "end_time": "2024-09-09T09:35:34.577522600Z",
     "start_time": "2024-09-09T09:35:34.573964900Z"
    }
   },
   "id": "34c7610a14f4dfbb"
  },
  {
   "cell_type": "code",
   "execution_count": 2,
   "outputs": [
    {
     "name": "stdout",
     "output_type": "stream",
     "text": [
      "17\n"
     ]
    }
   ],
   "source": [
    "print(2 * 3**2 - 1)"
   ],
   "metadata": {
    "collapsed": false,
    "ExecuteTime": {
     "end_time": "2024-09-09T10:32:25.917602Z",
     "start_time": "2024-09-09T10:32:25.907516400Z"
    }
   },
   "id": "8d77ad019240205a"
  },
  {
   "cell_type": "code",
   "execution_count": 3,
   "outputs": [
    {
     "name": "stdout",
     "output_type": "stream",
     "text": [
      "-100\n",
      "-1000\n"
     ]
    }
   ],
   "source": [
    "print(-10**2)\n",
    "print(-10**3)"
   ],
   "metadata": {
    "collapsed": false,
    "ExecuteTime": {
     "end_time": "2024-09-09T10:32:38.197047500Z",
     "start_time": "2024-09-09T10:32:38.181309500Z"
    }
   },
   "id": "de8fb2019cc28999"
  },
  {
   "cell_type": "code",
   "execution_count": 4,
   "outputs": [
    {
     "name": "stdout",
     "output_type": "stream",
     "text": [
      "100\n",
      "-1000\n"
     ]
    }
   ],
   "source": [
    "print((-10)**2)\n",
    "print((-10)**3)"
   ],
   "metadata": {
    "collapsed": false,
    "ExecuteTime": {
     "end_time": "2024-09-09T10:32:49.692076700Z",
     "start_time": "2024-09-09T10:32:49.649250500Z"
    }
   },
   "id": "6bc725de44198f7e"
  },
  {
   "cell_type": "code",
   "execution_count": 10,
   "outputs": [
    {
     "data": {
      "text/plain": "54"
     },
     "execution_count": 10,
     "metadata": {},
     "output_type": "execute_result"
    }
   ],
   "source": [
    "ord('6')"
   ],
   "metadata": {
    "collapsed": false,
    "ExecuteTime": {
     "end_time": "2024-09-09T10:36:15.145932400Z",
     "start_time": "2024-09-09T10:36:15.140021800Z"
    }
   },
   "id": "a46667b472b6c19f"
  },
  {
   "cell_type": "code",
   "execution_count": 11,
   "outputs": [
    {
     "name": "stdout",
     "output_type": "stream",
     "text": [
      "🐍\n",
      "128013\n"
     ]
    }
   ],
   "source": [
    "print(chr(ord('🐍')))\n",
    "print(ord(chr(128013)))"
   ],
   "metadata": {
    "collapsed": false,
    "ExecuteTime": {
     "end_time": "2024-09-09T10:36:31.786524900Z",
     "start_time": "2024-09-09T10:36:31.773824500Z"
    }
   },
   "id": "68a90d46298eee9f"
  },
  {
   "cell_type": "code",
   "execution_count": null,
   "outputs": [],
   "source": [],
   "metadata": {
    "collapsed": false
   },
   "id": "27828f8e2574fa8b"
  }
 ],
 "metadata": {
  "kernelspec": {
   "display_name": "Python 3",
   "language": "python",
   "name": "python3"
  },
  "language_info": {
   "codemirror_mode": {
    "name": "ipython",
    "version": 2
   },
   "file_extension": ".py",
   "mimetype": "text/x-python",
   "name": "python",
   "nbconvert_exporter": "python",
   "pygments_lexer": "ipython2",
   "version": "2.7.6"
  }
 },
 "nbformat": 4,
 "nbformat_minor": 5
}
